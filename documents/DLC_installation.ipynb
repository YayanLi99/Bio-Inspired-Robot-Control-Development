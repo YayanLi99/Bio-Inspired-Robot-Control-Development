{
 "cells": [
  {
   "cell_type": "markdown",
   "id": "7e83cdc1",
   "metadata": {},
   "source": [
    "# 1. DLC Installation Tutorial\n",
    "\n",
    "Prequisite\n",
    "- Install Anaconda [Done]\n",
    "- Install Git [Done]\n",
    "\n",
    "Note: the label [Done] means those steps are already be done in Lab PC."
   ]
  },
  {
   "cell_type": "markdown",
   "id": "c476127c",
   "metadata": {},
   "source": [
    "## 1.1 Create a new Enviroment [Done]\n",
    "\n",
    "This part only install CPU-only version Deeplabcut, you can label data using the Deeplabcut GUI, then train the data on Google Colab(GUI not supported) or other platforms.\n",
    "\n",
    "If you want to install Deeplabcut with pytorch GPU-supported version and train the data on PC, please continue to `1.2 DLC GPU support`.\n",
    "\n",
    "\n",
    "Download [`DEEPLABCUT.yaml`](https://github.com/DeepLabCut/DeepLabCut/blob/main/conda-environments/DEEPLABCUT.yaml) file from github \n",
    "\n",
    "open the program terminal/cmd/anaconda prompt as admin\n",
    "\n",
    "go to the folder that has the `.yaml` file, then run:"
   ]
  },
  {
   "cell_type": "code",
   "execution_count": null,
   "id": "1a2c4332",
   "metadata": {},
   "outputs": [],
   "source": [
    "conda env create -f DEEPLABCUT.yaml\n",
    "\n",
    "# upgrade deeplabcut\n",
    "pip install --upgrade deeplabcut\n",
    "\n",
    "# install pytables to read HDF5 files\n",
    "conda install -c conda-forge pytables==3.8.0"
   ]
  },
  {
   "cell_type": "markdown",
   "id": "71b4141e",
   "metadata": {},
   "source": [
    "You can now use this env from anywhere on your PC(i.e., no need to go back into the conda-folder).\n",
    "Just enter your environment by running:"
   ]
  },
  {
   "cell_type": "code",
   "execution_count": null,
   "id": "fa9713ea",
   "metadata": {},
   "outputs": [],
   "source": [
    "conda activate DEEPLABCUT\n",
    "\n",
    "# if you are using anaconda prompt, you can directly use:\n",
    "activate DEEPLABCUT           # Windows"
   ]
  },
  {
   "cell_type": "markdown",
   "id": "f8dceda6",
   "metadata": {},
   "source": [
    "To launch the deeplabcut by running(activate the env before running):"
   ]
  },
  {
   "cell_type": "code",
   "execution_count": null,
   "id": "cd8d24d8",
   "metadata": {},
   "outputs": [],
   "source": [
    "python -m deeplabcut"
   ]
  },
  {
   "cell_type": "markdown",
   "id": "6ae1d0a9",
   "metadata": {},
   "source": [
    "## 1.2 DLC GPU support [Done]\n",
    "\n",
    "- Install [GPU driver](https://www.nvidia.com/en-us/drivers/) (NVIDIA)\n",
    "- Install [CUDA toolkit](https://pytorch.org/get-started/locally/) [cuDNN is supplied inside the anaconda env]"
   ]
  },
  {
   "cell_type": "code",
   "execution_count": null,
   "id": "ecc2e0a6",
   "metadata": {},
   "outputs": [],
   "source": [
    "# First, install a driver for your GPU in the link above\n",
    "# and check your GPU name\n",
    "nvida-smi\n",
    "\n",
    "\n",
    "# Second, install matching CUDA toolkit\n",
    "# Check the compatible CUDA version in the link above\n",
    "# Here we use CUDA 12.8\n",
    "pip3 install torch torchvision torchaudio --index-url https://download.pytorch.org/whl/cu128\n",
    "\n",
    "# Final check\n",
    "# import python or ipython in the terminal\n",
    "python \n",
    "\n",
    "# check your pytorch version\n",
    "# possible outputs: 2.7+cu128, or 2.7+CPU\n",
    "import torch\n",
    "print(torch.__version__)\n",
    "print(torch.cuda.is_available())\n",
    "print(torch.cuda.get_device_name(0))"
   ]
  },
  {
   "cell_type": "markdown",
   "id": "77a46f07",
   "metadata": {},
   "source": [
    "### 1.3 Check your GPU is working\n",
    "\n",
    "To check your GPU is working, create a project and train the network.\n",
    "Before training, make sure to configure the `pytorch_config.yaml` - `runner`\n",
    "\n",
    "First, in the terminal, run:"
   ]
  },
  {
   "cell_type": "code",
   "execution_count": null,
   "id": "2b3a4459",
   "metadata": {},
   "outputs": [],
   "source": [
    "python \n",
    "import torch\n",
    "# count the number of your GPU, the id should starts from 0\n",
    "print(torch.cuda.device_count())"
   ]
  },
  {
   "cell_type": "markdown",
   "id": "f4160561",
   "metadata": {},
   "source": [
    "**MUST BE DONE!**\n",
    "\n",
    "So if you have 1 GPU, you should enter the value `[0]` or `- 0` into `pytorch_config.yaml`- `runner`-`gpus` key.\n",
    "\n",
    "Or you can find the `config.yaml` option in `training the network` in Deeplabcut GUI. Go to  `runner`-`gpus` and insert `[0]`\n",
    "\n",
    "Don't type `0`, it doesn't work.\n",
    "\n",
    "Then Check if the GPU is woking running the following command in a new terminal:"
   ]
  },
  {
   "cell_type": "code",
   "execution_count": null,
   "id": "7995e796",
   "metadata": {},
   "outputs": [],
   "source": [
    "# real time updates, look at `sm`[Streaming Multiprocessor] and `mem`\n",
    "nvidia-smi dmon\n",
    "\n",
    "# or look at GPU-Util value \n",
    "nvidia-smi"
   ]
  },
  {
   "cell_type": "markdown",
   "id": "bf7a35d8",
   "metadata": {},
   "source": [
    "\n",
    "If you don’t see activity there during training, then your GPU is likely not installed correctly for DeepLabCut. \n",
    "\n",
    "Return to the installation instructions, and be sure you installed CUDA 11+, and ran"
   ]
  },
  {
   "cell_type": "code",
   "execution_count": null,
   "id": "0b847144",
   "metadata": {},
   "outputs": [],
   "source": [
    "conda install cudnn -c conda-forge after installing DeepLabCut."
   ]
  }
 ],
 "metadata": {
  "language_info": {
   "name": "python"
  }
 },
 "nbformat": 4,
 "nbformat_minor": 5
}
