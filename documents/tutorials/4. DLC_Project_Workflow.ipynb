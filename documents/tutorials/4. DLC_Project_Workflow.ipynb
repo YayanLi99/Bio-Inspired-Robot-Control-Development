{
 "cells": [
  {
   "cell_type": "markdown",
   "id": "ec054d66",
   "metadata": {},
   "source": [
    "# DLC Project Workflow\n",
    "\n",
    "## 0. Create a Project\n",
    "\n",
    "First, activate anaconda `DEEPLABCUT` env."
   ]
  },
  {
   "cell_type": "code",
   "execution_count": null,
   "id": "10aa5dca",
   "metadata": {
    "vscode": {
     "languageId": "shellscript"
    }
   },
   "outputs": [],
   "source": [
    "# source anaconda in linux\n",
    "# source <path_to_anaconda>/bin/activate\n",
    "source anaconda3/bin/activate\n",
    "\n",
    "# activate DEEPLABCUT env\n",
    "conda activate DEEPLABCUT\n",
    "\n",
    "# Run deeplabcut GUI\n",
    "python -m deeplabcut"
   ]
  },
  {
   "cell_type": "markdown",
   "id": "9b79ff2b",
   "metadata": {},
   "source": [
    "Choose `create new project` button to configure your new project\n",
    "\n",
    "![image1](./files/DLCmainpage.png)\n",
    "\n",
    "Then fill in the needed parameters, recommend to tick the `copy videos to project folder` to avoid some undelying warnings like `couldn't open the video` or so on.\n",
    "![image2](./files/newprojparams.png)\n",
    "\n",
    "Then follow the menu bar to finish the steps:\n",
    "\n",
    "## 1. Edit config.yaml\n",
    "\n",
    "You should specify `body parts` and `numframes2pick` in the `config.yaml` file. You can fill it in the GUI or open the file in any text editor.\n",
    "\n",
    "## 2. Extract Frames\n",
    "\n",
    "Select videos, and configure the method to be used. Then click `Extract Frames`\n",
    "\n",
    "## 3. Label Frames\n",
    "\n",
    "If the image couldn't show on the  napari GUI when you launch it from Deeplabcut GUI\n",
    "\n",
    "Close the napari GUI, then open a new terminal and activate DEEPLABCUT env again.\n",
    "\n",
    "Launch `napari` GUI in the new terminal\n"
   ]
  },
  {
   "cell_type": "code",
   "execution_count": null,
   "id": "5e1500a7",
   "metadata": {
    "vscode": {
     "languageId": "shellscript"
    }
   },
   "outputs": [],
   "source": [
    "# source anaconda in linux\n",
    "# source <path_to_anaconda>/bin/activate\n",
    "source anaconda3/bin/activate\n",
    "\n",
    "# activate DEEPLABCUT env\n",
    "conda activate DEEPLABCUT\n",
    "\n",
    "napari"
   ]
  },
  {
   "cell_type": "markdown",
   "id": "b2457358",
   "metadata": {},
   "source": [
    "Then load `keypoints control` in the `plugins` menu bar\n",
    "\n",
    "![image]()\n",
    "\n",
    "Open folders, only one layer shown there.\n",
    "\n",
    "Drag the config.yaml into napari GUI, the `CollectedData_Name` layers and the keypoints info set in the config.yaml will be shown.\n",
    "\n",
    "![image]()\n",
    "\n",
    "The key is to **load Plugins first**, open label folder and drag the config.yaml into the napari GUI.\n"
   ]
  },
  {
   "cell_type": "markdown",
   "id": "70159752",
   "metadata": {},
   "source": [
    "### Start Labeling  \n",
    "\n",
    "You can see on the left side, there are two layers including `images` and `CollecteData_Name`. \n",
    "\n",
    "You should add label on the `CollectedData_Name` layer, click the `add points` button on the left top side on the layer controls pannel, or you can use shortcuts.\n",
    "\n",
    "Move your mouse to the `Keypoint selection` pannel then roll your mouse can switch keypoint.\n",
    "\n",
    "Discover how to use the GUI on your own, which can increase your productivity, especially when you need to mark many key points.\n",
    "\n",
    "Remember to save your changes before close it."
   ]
  }
 ],
 "metadata": {
  "language_info": {
   "name": "python"
  }
 },
 "nbformat": 4,
 "nbformat_minor": 5
}
