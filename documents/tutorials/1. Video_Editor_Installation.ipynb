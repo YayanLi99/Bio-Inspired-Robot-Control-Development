{
 "cells": [
  {
   "cell_type": "markdown",
   "id": "376164fd",
   "metadata": {},
   "source": [
    "# Video Editor\n",
    "\n",
    "In this project, you need to synchronize multiple videos. Here I used Shotcut in Linux OS\n",
    "\n",
    "- **Tool:** ShotCut\n",
    "- **OS:** Linux\n",
    "\n",
    "## Download and Install\n",
    "\n",
    "You can find it in the AppStore(Recommanded), or go to the [official website](https://www.shotcut.org/download/)\n",
    "\n",
    "## Tutorials\n",
    "\n",
    "A bunch of tutorial [videos](https://www.shotcut.org/tutorials/) can be found on the offical website.\n",
    "You can learn it in 5mins\n",
    "\n",
    "Here is the tutorial for **[The Align To Reference Track tool](https://forum.shotcut.org/t/timeline-align-to-reference-track/33893)** which allows multiple clips to be aligned to the audio in a reference track. \n",
    "\n",
    "This can be useful to align clips that were recorded at the same time from multiple camera angles\n"
   ]
  }
 ],
 "metadata": {
  "language_info": {
   "name": "python"
  }
 },
 "nbformat": 4,
 "nbformat_minor": 5
}
