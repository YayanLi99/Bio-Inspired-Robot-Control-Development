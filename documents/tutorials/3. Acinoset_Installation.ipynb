{
 "cells": [
  {
   "cell_type": "markdown",
   "id": "f5f13634",
   "metadata": {},
   "source": [
    "# Acinoset Installation\n",
    "\n",
    "Acinoset is a tool of n-camera support with `triangulation`, `extended Kalman filtering`, and `trajectory optimization` code ,plus a GUI to visualize 3D data.\n",
    "\n",
    "It is built to work directly with DeepLabCut Originally tailored to cheetah’s, now adapated to Japanese Spider Crab and could be adpated to any animals. \n",
    "\n",
    "The original version is launched [here](https://github.com/African-Robotics-Unit/AcinoSet.git).\n",
    "\n",
    "The adpated version is upload in [Acinoset_Adapted](https://github.com/YayanLi99/AcinoSet_Adapted.git) github repository.\n",
    "\n",
    "\n",
    "## Download\n",
    "\n",
    "**IMPORTANT:** Remember to clone the branch `update_optimizations`"
   ]
  },
  {
   "cell_type": "code",
   "execution_count": null,
   "id": "bc00084e",
   "metadata": {
    "vscode": {
     "languageId": "plaintext"
    }
   },
   "outputs": [],
   "source": [
    "git clone git@github.com:African-Robotics-Unit/AcinoSet.git -b update_optimizations"
   ]
  },
  {
   "cell_type": "markdown",
   "id": "5174cfbb",
   "metadata": {},
   "source": [
    "## Enviroment Setup\n",
    "\n",
    "Here we use **anaconda** to create a seperate working envoriment, go to the official [Aanaconda Installation Tutorial](https://www.anaconda.com/docs/getting-started/anaconda/install) for more details.\n",
    "\n",
    "**IMPORTANT**\n",
    "\n",
    "If you clone the `Acinoset_Adapted`, you can directly run the following command, otherwise you need to do some changes on the original yaml file.\n",
    "\n",
    "**Read `acinoset.yml` in conda_envs folder for the changes** \n",
    "\n",
    "`Navigate` to the `AcinoSet_Adapted` folder and build type the following command in your terminal to build the environment:"
   ]
  },
  {
   "cell_type": "code",
   "execution_count": null,
   "id": "81084218",
   "metadata": {
    "vscode": {
     "languageId": "plaintext"
    }
   },
   "outputs": [],
   "source": [
    "conda env create -f conda_envs/acinoset.yml"
   ]
  },
  {
   "cell_type": "markdown",
   "id": "b253d96c",
   "metadata": {},
   "source": [
    "## Create a Project\n"
   ]
  }
 ],
 "metadata": {
  "language_info": {
   "name": "python"
  }
 },
 "nbformat": 4,
 "nbformat_minor": 5
}
